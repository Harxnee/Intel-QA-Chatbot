{
 "cells": [
  {
   "cell_type": "code",
   "execution_count": 1,
   "id": "993f5659-2c14-436a-b5fa-10a76ee96a79",
   "metadata": {
    "tags": []
   },
   "outputs": [
    {
     "name": "stdout",
     "output_type": "stream",
     "text": [
      "INFO:nncf:NNCF initialized successfully. Supported frameworks detected: torch, onnx, openvino\n"
     ]
    }
   ],
   "source": [
    "import time\n",
    "import numpy as np\n",
    "import seaborn as sns\n",
    "import matplotlib.pyplot as plt\n",
    "\n",
    "from transformers import AutoModelForCausalLM, AutoTokenizer\n",
    "from optimum.intel import OVModelForCausalLM"
   ]
  },
  {
   "cell_type": "code",
   "execution_count": 2,
   "id": "23d8dfd9-2a69-4060-a79a-cdec43abf71c",
   "metadata": {
    "tags": []
   },
   "outputs": [],
   "source": [
    "def load_model_and_tokenizer(model_id, is_ov_model=False):\n",
    "    if is_ov_model:\n",
    "        model = OVModelForCausalLM.from_pretrained(model_id, export=True)\n",
    "    else:\n",
    "        model = AutoModelForCausalLM.from_pretrained(model_id,\n",
    "                                                    )\n",
    "    tokenizer = AutoTokenizer.from_pretrained(model_id)\n",
    "    return model, tokenizer"
   ]
  },
  {
   "cell_type": "code",
   "execution_count": 3,
   "id": "7dd47c2b-faae-47ae-b04f-18a673bdbd69",
   "metadata": {},
   "outputs": [],
   "source": [
    "def track_memory_usage():\n",
    "    process = psutil.Process()\n",
    "    memory_info = process.memory_info()\n",
    "    return memory_info.rss / (1024 ** 2)  # Return memory usage in MB"
   ]
  },
  {
   "cell_type": "code",
   "execution_count": 40,
   "id": "a633b630-7ec4-49d3-af03-99c115aac006",
   "metadata": {
    "tags": []
   },
   "outputs": [],
   "source": [
    "def generate_results(model, tokenizer, prompt, max_new_tokens=50):\n",
    "    inputs = tokenizer(prompt, return_tensors=\"pt\")\n",
    "    start_time = time.time()\n",
    "    outputs = model.generate(**inputs, max_new_tokens=max_new_tokens)\n",
    "    end_time = time.time()\n",
    "    \n",
    "    # skip the prompt and inital format\n",
    "    output_text = tokenizer.decode(outputs[0])[len(prompt)+5:]\n",
    "    generation_time = end_time - start_time\n",
    "    \n",
    "    return output_text, generation_time"
   ]
  },
  {
   "cell_type": "code",
   "execution_count": 5,
   "id": "f6fb730a-cc11-40cc-93f9-68aff611f91c",
   "metadata": {
    "tags": []
   },
   "outputs": [
    {
     "data": {
      "application/vnd.jupyter.widget-view+json": {
       "model_id": "6b40929b8ad24bf4bad54516a31fd6c3",
       "version_major": 2,
       "version_minor": 0
      },
      "text/plain": [
       "config.json:   0%|          | 0.00/630 [00:00<?, ?B/s]"
      ]
     },
     "metadata": {},
     "output_type": "display_data"
    },
    {
     "name": "stderr",
     "output_type": "stream",
     "text": [
      "Framework not specified. Using pt to export the model.\n"
     ]
    },
    {
     "data": {
      "application/vnd.jupyter.widget-view+json": {
       "model_id": "a906ffd2cc364f8b8a54edc289c8ff58",
       "version_major": 2,
       "version_minor": 0
      },
      "text/plain": [
       "pytorch_model.bin.index.json:   0%|          | 0.00/26.8k [00:00<?, ?B/s]"
      ]
     },
     "metadata": {},
     "output_type": "display_data"
    },
    {
     "data": {
      "application/vnd.jupyter.widget-view+json": {
       "model_id": "fb0f4197aede417c98d32577a7f3fcbb",
       "version_major": 2,
       "version_minor": 0
      },
      "text/plain": [
       "Downloading shards:   0%|          | 0/2 [00:00<?, ?it/s]"
      ]
     },
     "metadata": {},
     "output_type": "display_data"
    },
    {
     "data": {
      "application/vnd.jupyter.widget-view+json": {
       "model_id": "5438b079dcf6411d9f3085aa35c36992",
       "version_major": 2,
       "version_minor": 0
      },
      "text/plain": [
       "pytorch_model-00001-of-00002.bin:   0%|          | 0.00/9.98G [00:00<?, ?B/s]"
      ]
     },
     "metadata": {},
     "output_type": "display_data"
    },
    {
     "data": {
      "application/vnd.jupyter.widget-view+json": {
       "model_id": "4d0b3adff13a4b32a472e11804b5dd40",
       "version_major": 2,
       "version_minor": 0
      },
      "text/plain": [
       "pytorch_model-00002-of-00002.bin:   0%|          | 0.00/3.50G [00:00<?, ?B/s]"
      ]
     },
     "metadata": {},
     "output_type": "display_data"
    },
    {
     "data": {
      "application/vnd.jupyter.widget-view+json": {
       "model_id": "c04abbd1a7d24def9200a26e5955a392",
       "version_major": 2,
       "version_minor": 0
      },
      "text/plain": [
       "Loading checkpoint shards:   0%|          | 0/2 [00:00<?, ?it/s]"
      ]
     },
     "metadata": {},
     "output_type": "display_data"
    },
    {
     "data": {
      "application/vnd.jupyter.widget-view+json": {
       "model_id": "085aafa8114945228a5d38825d750dd7",
       "version_major": 2,
       "version_minor": 0
      },
      "text/plain": [
       "generation_config.json:   0%|          | 0.00/183 [00:00<?, ?B/s]"
      ]
     },
     "metadata": {},
     "output_type": "display_data"
    },
    {
     "data": {
      "application/vnd.jupyter.widget-view+json": {
       "model_id": "4626ce74ce224d489cf3787eb3bf49db",
       "version_major": 2,
       "version_minor": 0
      },
      "text/plain": [
       "tokenizer_config.json:   0%|          | 0.00/1.57k [00:00<?, ?B/s]"
      ]
     },
     "metadata": {},
     "output_type": "display_data"
    },
    {
     "data": {
      "application/vnd.jupyter.widget-view+json": {
       "model_id": "b534b3e1ff0e409aaf672afce9c820cc",
       "version_major": 2,
       "version_minor": 0
      },
      "text/plain": [
       "tokenizer.model:   0%|          | 0.00/500k [00:00<?, ?B/s]"
      ]
     },
     "metadata": {},
     "output_type": "display_data"
    },
    {
     "data": {
      "application/vnd.jupyter.widget-view+json": {
       "model_id": "5ec58027fb5b4f198c00df6f5b1eba43",
       "version_major": 2,
       "version_minor": 0
      },
      "text/plain": [
       "tokenizer.json:   0%|          | 0.00/1.84M [00:00<?, ?B/s]"
      ]
     },
     "metadata": {},
     "output_type": "display_data"
    },
    {
     "data": {
      "application/vnd.jupyter.widget-view+json": {
       "model_id": "ba5a40679c1d4d6caa64bf6d685cd001",
       "version_major": 2,
       "version_minor": 0
      },
      "text/plain": [
       "special_tokens_map.json:   0%|          | 0.00/437 [00:00<?, ?B/s]"
      ]
     },
     "metadata": {},
     "output_type": "display_data"
    },
    {
     "name": "stderr",
     "output_type": "stream",
     "text": [
      "Can't determine type of OV quantization config. Please specify explicitly whether you intend to run weight-only quantization or not with `weight_only` parameter. Creating an instance of OVWeightQuantizationConfig.\n",
      "The model weights will be quantized to int8.\n",
      "Using framework PyTorch: 2.3.0+cu121\n",
      "Overriding 1 configuration item(s)\n",
      "\t- use_cache -> True\n",
      "/data/venv/openvino_notebooks/openvino_2024.1.0_python3.10/.venv/lib/python3.10/site-packages/transformers/modeling_utils.py:4371: FutureWarning: `_is_quantized_training_enabled` is going to be deprecated in transformers 4.39.0. Please use `model.hf_quantizer.is_trainable` instead\n",
      "  warnings.warn(\n",
      "The cos_cached attribute will be removed in 4.39. Bear in mind that its contents changed in v4.38. Use the forward method of RoPE from now on instead. It is not used in the `LlamaAttention` class\n",
      "The sin_cached attribute will be removed in 4.39. Bear in mind that its contents changed in v4.38. Use the forward method of RoPE from now on instead. It is not used in the `LlamaAttention` class\n",
      "/data/venv/openvino_notebooks/openvino_2024.1.0_python3.10/.venv/lib/python3.10/site-packages/optimum/exporters/openvino/model_patcher.py:323: TracerWarning: Converting a tensor to a Python boolean might cause the trace to be incorrect. We can't record the data flow of Python values, so this value will be treated as a constant in the future. This means that the trace might not generalize to other inputs!\n",
      "  if sequence_length != 1:\n"
     ]
    },
    {
     "name": "stdout",
     "output_type": "stream",
     "text": [
      "INFO:nncf:Statistics of the bitwidth distribution:\n",
      "┍━━━━━━━━━━━━━━━━┯━━━━━━━━━━━━━━━━━━━━━━━━━━━━━┯━━━━━━━━━━━━━━━━━━━━━━━━━━━━━━━━━━━━━━━━┑\n",
      "│   Num bits (N) │ % all parameters (layers)   │ % ratio-defining parameters (layers)   │\n",
      "┝━━━━━━━━━━━━━━━━┿━━━━━━━━━━━━━━━━━━━━━━━━━━━━━┿━━━━━━━━━━━━━━━━━━━━━━━━━━━━━━━━━━━━━━━━┥\n",
      "│              8 │ 100% (226 / 226)            │ 100% (226 / 226)                       │\n",
      "┕━━━━━━━━━━━━━━━━┷━━━━━━━━━━━━━━━━━━━━━━━━━━━━━┷━━━━━━━━━━━━━━━━━━━━━━━━━━━━━━━━━━━━━━━━┙\n"
     ]
    },
    {
     "data": {
      "application/vnd.jupyter.widget-view+json": {
       "model_id": "85ae0c8b74404f608ee83e8bbda591c7",
       "version_major": 2,
       "version_minor": 0
      },
      "text/plain": [
       "Output()"
      ]
     },
     "metadata": {},
     "output_type": "display_data"
    },
    {
     "data": {
      "text/html": [
       "<pre style=\"white-space:pre;overflow-x:auto;line-height:normal;font-family:Menlo,'DejaVu Sans Mono',consolas,'Courier New',monospace\"></pre>\n"
      ],
      "text/plain": []
     },
     "metadata": {},
     "output_type": "display_data"
    },
    {
     "data": {
      "text/html": [
       "<pre style=\"white-space:pre;overflow-x:auto;line-height:normal;font-family:Menlo,'DejaVu Sans Mono',consolas,'Courier New',monospace\">\n",
       "</pre>\n"
      ],
      "text/plain": [
       "\n"
      ]
     },
     "metadata": {},
     "output_type": "display_data"
    },
    {
     "name": "stderr",
     "output_type": "stream",
     "text": [
      "Compiling the model to CPU ...\n"
     ]
    },
    {
     "data": {
      "application/vnd.jupyter.widget-view+json": {
       "model_id": "a168136330fa430e9414b884130f6e1a",
       "version_major": 2,
       "version_minor": 0
      },
      "text/plain": [
       "Loading checkpoint shards:   0%|          | 0/2 [00:00<?, ?it/s]"
      ]
     },
     "metadata": {},
     "output_type": "display_data"
    }
   ],
   "source": [
    "model_id_1 = \"OjasPatil/intel-llama2-7b\"\n",
    "model_1, tokenizer_1 = load_model_and_tokenizer(model_id_1, is_ov_model=True)\n",
    "\n",
    "model_id_2 = \"OjasPatil/intel-llama2-7b\"\n",
    "model_2, tokenizer_2 = load_model_and_tokenizer(model_id_2, is_ov_model=False)"
   ]
  },
  {
   "cell_type": "code",
   "execution_count": 41,
   "id": "c1e27e50-62c5-4fe5-8376-63920e1699ee",
   "metadata": {
    "tags": []
   },
   "outputs": [],
   "source": [
    "user_prompt = \"What is Intel OpenVINO?\"\n",
    "prompt = f\"<s>[INST] {user_prompt} [/INST]\""
   ]
  },
  {
   "cell_type": "code",
   "execution_count": 46,
   "id": "cb9f4e18-353e-4012-ba02-47f23b5f349e",
   "metadata": {},
   "outputs": [
    {
     "name": "stdout",
     "output_type": "stream",
     "text": [
      "Time taken by Intel OpenVINO format Model : 6.38 seconds\n",
      "Output:\n",
      "Intel OpenVINO is an open-source software development kit for deploying and tracking deep learning models across various applications, environments, and platforms. It enables real-time communication between models and applications like PyTorch, TensorFlow,\n"
     ]
    }
   ],
   "source": [
    "output_text_1, time_model_1 = generate_results(model_1, tokenizer_1, prompt)\n",
    "print(f\"Time taken by Intel OpenVINO format Model : {time_model_1:.2f} seconds\")\n",
    "print(f\"Output:\\n{output_text_1}\")"
   ]
  },
  {
   "cell_type": "code",
   "execution_count": 47,
   "id": "3b9ba525-91f4-44d1-bc66-91c918bf50a1",
   "metadata": {},
   "outputs": [
    {
     "name": "stdout",
     "output_type": "stream",
     "text": [
      "Time taken by usual format Model : 15.64 seconds\n",
      "Output:\n",
      "Intel OpenVINO is an open-source software developed by Intel. It enables efficient deployment of deep learning models across diverse edge devices and environments. It also provides a platform for developing and deploying models and applications for various edge and inference use cases\n"
     ]
    }
   ],
   "source": [
    "output_text_2, time_model_2 = generate_results(model_2, tokenizer_2, prompt)\n",
    "print(f\"Time taken by usual format Model : {time_model_2:.2f} seconds\")\n",
    "print(f\"Output:\\n{output_text_2}\")"
   ]
  },
  {
   "cell_type": "markdown",
   "id": "fa60c6e9-382b-44be-a381-b5290fd1071d",
   "metadata": {},
   "source": [
    "## Now lets run this on 10 prompts"
   ]
  },
  {
   "cell_type": "code",
   "execution_count": 48,
   "id": "3601ff6f-8e8b-494f-a4e6-9547b0ab3194",
   "metadata": {
    "tags": []
   },
   "outputs": [],
   "source": [
    "prompts = [\n",
    "    \"Do you give support for free Intel toolkits?\",\n",
    "    \"How do I get access to Intel® Gaudi® 2 accelerators?\",\n",
    "    \"what is intel OpenVINO?\",\n",
    "    \"What kind of licenses are available for Intel MPI Library?\",\n",
    "    \"What is the Intel® Developer Zone?\",\n",
    "    \"How do I use Intel Gaudi accelerators with Docker* images or create my own Docker image?\",\n",
    "    \"Will my Intel Parallel Studio XE still work after I transition to Intel toolkits?\",\n",
    "    \"When is a Developer license required for Intel MPI Library?\",\n",
    "    \"How to install Intel OpenVINO?\",\n",
    "    \"What is Intel Optane technology?\"\n",
    "]"
   ]
  },
  {
   "cell_type": "code",
   "execution_count": 49,
   "id": "dac78ac9-33a9-43fa-9ed9-c452a81a3058",
   "metadata": {
    "tags": []
   },
   "outputs": [],
   "source": [
    "times_model_1 = []\n",
    "times_model_2 = []"
   ]
  },
  {
   "cell_type": "code",
   "execution_count": 50,
   "id": "cbf8fd82-9659-4369-ac8d-9f181539ed64",
   "metadata": {
    "tags": []
   },
   "outputs": [
    {
     "name": "stdout",
     "output_type": "stream",
     "text": [
      "\n",
      "Prompt 1: Do you give support for free Intel toolkits?\n",
      "Time taken by Model 1: 7.20 seconds\n",
      "Time taken by Model 2: 14.92 seconds\n",
      "\n",
      "\n",
      "Prompt 2: How do I get access to Intel® Gaudi® 2 accelerators?\n",
      "Time taken by Model 1: 6.39 seconds\n",
      "Time taken by Model 2: 15.01 seconds\n",
      "\n",
      "\n",
      "Prompt 3: what is intel OpenVINO?\n",
      "Time taken by Model 1: 6.24 seconds\n",
      "Time taken by Model 2: 15.03 seconds\n",
      "\n",
      "\n",
      "Prompt 4: What kind of licenses are available for Intel MPI Library?\n",
      "Time taken by Model 1: 6.71 seconds\n",
      "Time taken by Model 2: 14.97 seconds\n",
      "\n",
      "\n",
      "Prompt 5: What is the Intel® Developer Zone?\n",
      "Time taken by Model 1: 6.28 seconds\n",
      "Time taken by Model 2: 15.23 seconds\n",
      "\n",
      "\n",
      "Prompt 6: How do I use Intel Gaudi accelerators with Docker* images or create my own Docker image?\n",
      "Time taken by Model 1: 6.76 seconds\n",
      "Time taken by Model 2: 14.83 seconds\n",
      "\n",
      "\n",
      "Prompt 7: Will my Intel Parallel Studio XE still work after I transition to Intel toolkits?\n",
      "Time taken by Model 1: 6.83 seconds\n",
      "Time taken by Model 2: 15.71 seconds\n",
      "\n",
      "\n",
      "Prompt 8: When is a Developer license required for Intel MPI Library?\n",
      "Time taken by Model 1: 6.92 seconds\n",
      "Time taken by Model 2: 15.24 seconds\n",
      "\n",
      "\n",
      "Prompt 9: How to install Intel OpenVINO?\n",
      "Time taken by Model 1: 6.23 seconds\n",
      "Time taken by Model 2: 14.86 seconds\n",
      "\n",
      "\n",
      "Prompt 10: What is Intel Optane technology?\n",
      "Time taken by Model 1: 6.77 seconds\n",
      "Time taken by Model 2: 15.03 seconds\n",
      "\n"
     ]
    }
   ],
   "source": [
    "for i, prompt in enumerate(prompts, 1):\n",
    "    print(f\"\\nPrompt {i}: {prompt}\")\n",
    "\n",
    "    # Generate output for model 1\n",
    "    output_text_1, time_model_1 = generate_results(model_1, tokenizer_1, prompt)\n",
    "    times_model_1.append(time_model_1)\n",
    "    print(f\"Time taken by Model 1: {time_model_1:.2f} seconds\")\n",
    "\n",
    "    # Generate output for model 2\n",
    "    output_text_2, time_model_2 = generate_results(model_2, tokenizer_2, prompt)\n",
    "    times_model_2.append(time_model_2)\n",
    "    print(f\"Time taken by Model 2: {time_model_2:.2f} seconds\")\n",
    "    print()"
   ]
  },
  {
   "cell_type": "code",
   "execution_count": 51,
   "id": "b3916638-9782-48a3-9900-861285134e37",
   "metadata": {
    "tags": []
   },
   "outputs": [
    {
     "name": "stdout",
     "output_type": "stream",
     "text": [
      "\n",
      "Average time taken by Model 1: 6.63 seconds\n",
      "Average time taken by Model 2: 15.08 seconds\n",
      "\n",
      "Intel OpenVINO is 56.03% more time efficient!!!\n"
     ]
    }
   ],
   "source": [
    "# Calculate average times\n",
    "avg_time_model_1 = sum(times_model_1) / len(times_model_1)\n",
    "avg_time_model_2 = sum(times_model_2) / len(times_model_2)\n",
    "\n",
    "# Calculate the percentage difference\n",
    "percentage_time_less = ((avg_time_model_2 - avg_time_model_1) / avg_time_model_2) * 100\n",
    "\n",
    "print(f\"\\nAverage time taken by Model 1: {avg_time_model_1:.2f} seconds\")\n",
    "print(f\"Average time taken by Model 2: {avg_time_model_2:.2f} seconds\")\n",
    "print()\n",
    "print(f\"Intel OpenVINO is {percentage_time_less:.2f}% more time efficient!!!\")"
   ]
  },
  {
   "cell_type": "code",
   "execution_count": 52,
   "id": "372dce3a-f846-401a-82ec-05dfd02866ae",
   "metadata": {
    "tags": []
   },
   "outputs": [
    {
     "data": {
      "image/png": "[encoded data removed]",
      "text/plain": [
       "<Figure size 1400x600 with 1 Axes>"
      ]
     },
     "metadata": {},
     "output_type": "display_data"
    }
   ],
   "source": [
    "plt.figure(figsize=(14, 6))\n",
    "x = np.arange(len(prompts))\n",
    "width = 0.35\n",
    "plt.bar(x - width/2, times_model_1, width, label='Model 1')\n",
    "plt.bar(x + width/2, times_model_2, width, label='Model 2')\n",
    "plt.xlabel(\"Prompt No.\")\n",
    "plt.ylabel('Time (seconds)')\n",
    "plt.title('Time Taken by Each Model for Each Prompt')\n",
    "plt.xticks(x+1)\n",
    "plt.legend()\n",
    "plt.tight_layout()\n",
    "plt.show()"
   ]
  },
  {
   "cell_type": "code",
   "execution_count": 53,
   "id": "18462dad-ca10-43ea-b830-4b367b876c79",
   "metadata": {
    "tags": []
   },
   "outputs": [
    {
     "data": {
      "image/png": "[encoded data removed]",
      "text/plain": [
       "<Figure size 1200x600 with 1 Axes>"
      ]
     },
     "metadata": {},
     "output_type": "display_data"
    }
   ],
   "source": [
    "# Plotting times for each prompt\n",
    "plt.figure(figsize=(12, 6))\n",
    "plt.plot(range(1, 11), times_model_1, marker='o', linestyle='-', color='b', label='Intel OpenVINO')\n",
    "plt.plot(range(1, 11), times_model_2, marker='s', linestyle='--', color='g', label='Standard')\n",
    "plt.xticks(range(1, 11))\n",
    "plt.xlabel('Prompts')\n",
    "plt.ylabel('Time (seconds)')\n",
    "plt.title('Generation Time Comparison between Model 1 and Model 2 for Different Prompts')\n",
    "plt.legend()\n",
    "plt.grid(True)\n",
    "plt.tight_layout()\n",
    "plt.show()"
   ]
  }
 ],
 "metadata": {
  "kernelspec": {
   "display_name": "Python 3.10 (OpenVINO Notebooks 2024.1.0)",
   "language": "python",
   "name": "openvino_notebooks_2024.1.0_python3.10"
  },
  "language_info": {
   "codemirror_mode": {
    "name": "ipython",
    "version": 3
   },
   "file_extension": ".py",
   "mimetype": "text/x-python",
   "name": "python",
   "nbconvert_exporter": "python",
   "pygments_lexer": "ipython3",
   "version": "3.10.12"
  }
 },
 "nbformat": 4,
 "nbformat_minor": 5
}
